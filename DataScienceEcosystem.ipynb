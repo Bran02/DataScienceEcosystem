{
 "cells": [
  {
   "cell_type": "markdown",
   "id": "7f69fe5a-56ba-4b40-b121-62cddb9564fb",
   "metadata": {},
   "source": [
    "# Data Science Tools and Ecosystem"
   ]
  },
  {
   "cell_type": "markdown",
   "id": "b35baf01-a2cd-4919-8836-d6251997a2f6",
   "metadata": {},
   "source": [
    "In this course we will analyse a summary of Data Science Tools and Ecosystem (Exercise 3)"
   ]
  },
  {
   "cell_type": "markdown",
   "id": "2472fd67-2723-43b7-9109-4886dced2018",
   "metadata": {},
   "source": [
    "Exercise 10\n",
    "\n",
    "**Objetives:** \n",
    "* Learning the main tools used in the data science ecosystem\n",
    "* Identifying the leading programming languages for data science\n",
    "* Analysing how to build basic mathematical expressions"
   ]
  },
  {
   "cell_type": "markdown",
   "id": "8fc13298-ad7b-4f15-981b-57e6c8453320",
   "metadata": {},
   "source": [
    "Exercise 4. Some programming languages widely used in data science\n",
    "1. Pyhton\n",
    "2. R\n",
    "3. SQL"
   ]
  },
  {
   "cell_type": "markdown",
   "id": "e003119c-aa89-461f-916f-8a01bcbb5665",
   "metadata": {},
   "source": [
    "Exercise 5. Some of the commonly used libraries in data science are:\n",
    "1. Pandas\n",
    "2. PixieDust\n",
    "3. Kibana\n",
    "4. Matplotlib\n",
    "5. Scipy"
   ]
  },
  {
   "cell_type": "markdown",
   "id": "b0087b9d-8cba-440e-9b18-3ec7bfb8745f",
   "metadata": {},
   "source": [
    "Exercise 6\n",
    "|Data Science Tools|\n",
    "|------------------|\n",
    "|Git|\n",
    "|ANACONDA|\n",
    "|Jupyter|\n",
    "|IBM Watson Open Scale|"
   ]
  },
  {
   "cell_type": "code",
   "execution_count": 26,
   "id": "b79bf4c1-659e-4719-a3cb-e6dcb609a1a0",
   "metadata": {},
   "outputs": [
    {
     "data": {
      "text/plain": [
       "(12, 13, 151809, -429, 64.12440000000001)"
      ]
     },
     "execution_count": 26,
     "metadata": {},
     "output_type": "execute_result"
    }
   ],
   "source": [
    "# Exercise 7. Below there are some examples of arithmetic expressions:\n",
    "5+7, 5+8, 95345+56464, 549-978, 100-35.8756"
   ]
  },
  {
   "cell_type": "code",
   "execution_count": 30,
   "id": "1cebb39d-5f90-48d6-bf48-a5ea7aee996d",
   "metadata": {},
   "outputs": [
    {
     "data": {
      "text/plain": [
       "17"
      ]
     },
     "execution_count": 30,
     "metadata": {},
     "output_type": "execute_result"
    }
   ],
   "source": [
    "# Exercise 8. This code cell is going to evaluate the following multiplication:\n",
    "# This simple expression shows a multiplication between natural numbers and then, it's made an addition\n",
    "(3*4)+5"
   ]
  },
  {
   "cell_type": "code",
   "execution_count": 34,
   "id": "76839e63-c2b5-4a59-b640-d7aa46c57a6a",
   "metadata": {},
   "outputs": [
    {
     "data": {
      "text/plain": [
       "3.3333333333333335"
      ]
     },
     "execution_count": 34,
     "metadata": {},
     "output_type": "execute_result"
    }
   ],
   "source": [
    "# Exercise 9. Converting hours into minutes. \n",
    "# The following expression will convert 200 hours into minutes:\n",
    "200/60"
   ]
  },
  {
   "cell_type": "markdown",
   "id": "43d25321-ca61-43e9-bfd1-6f9b64c01d29",
   "metadata": {},
   "source": [
    "#Exercise 11. Author\n",
    "\n",
    "## TAMAYO C. DE VACA ABRAHAM DAVID"
   ]
  },
  {
   "cell_type": "code",
   "execution_count": null,
   "id": "bc39bbb8-0457-4165-bec9-c03dd5ac3b78",
   "metadata": {},
   "outputs": [],
   "source": []
  }
 ],
 "metadata": {
  "kernelspec": {
   "display_name": "Python 3 (ipykernel)",
   "language": "python",
   "name": "python3"
  },
  "language_info": {
   "codemirror_mode": {
    "name": "ipython",
    "version": 3
   },
   "file_extension": ".py",
   "mimetype": "text/x-python",
   "name": "python",
   "nbconvert_exporter": "python",
   "pygments_lexer": "ipython3",
   "version": "3.12.7"
  }
 },
 "nbformat": 4,
 "nbformat_minor": 5
}
